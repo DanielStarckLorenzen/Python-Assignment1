{
 "cells": [
  {
   "attachments": {},
   "cell_type": "markdown",
   "metadata": {},
   "source": [
    "1. Model an organisation of employees, management and board of directors in 3 sets."
   ]
  },
  {
   "cell_type": "code",
   "execution_count": 2,
   "metadata": {},
   "outputs": [],
   "source": [
    "directors = {'Benny', 'Hans', 'Tine', 'Mille', 'Torben', 'Troels', 'Søren'}\n",
    "\n",
    "management = {'Tine', 'Trunte', 'Rane'}\n",
    "\n",
    "employees = {'Niels', 'Anna', 'Tine', 'Ole', 'Trunte', 'Bent', 'Rane', 'Allan', 'Stine', 'Claus', 'James', 'Lars'}"
   ]
  },
  {
   "attachments": {},
   "cell_type": "markdown",
   "metadata": {},
   "source": [
    "Who in the board of directors is not an employee?"
   ]
  },
  {
   "cell_type": "code",
   "execution_count": 7,
   "metadata": {},
   "outputs": [
    {
     "data": {
      "text/plain": [
       "{'Benny', 'Hans', 'Mille', 'Søren', 'Torben', 'Troels'}"
      ]
     },
     "execution_count": 7,
     "metadata": {},
     "output_type": "execute_result"
    }
   ],
   "source": [
    "directors.difference(employees)"
   ]
  },
  {
   "attachments": {},
   "cell_type": "markdown",
   "metadata": {},
   "source": [
    "Who in the board of directors is also an employee?"
   ]
  },
  {
   "cell_type": "code",
   "execution_count": 8,
   "metadata": {},
   "outputs": [
    {
     "data": {
      "text/plain": [
       "{'Tine'}"
      ]
     },
     "execution_count": 8,
     "metadata": {},
     "output_type": "execute_result"
    }
   ],
   "source": [
    "directors.intersection(employees)"
   ]
  },
  {
   "attachments": {},
   "cell_type": "markdown",
   "metadata": {},
   "source": [
    "How many of the management is also member of the board?"
   ]
  },
  {
   "cell_type": "code",
   "execution_count": 9,
   "metadata": {},
   "outputs": [
    {
     "data": {
      "text/plain": [
       "{'Tine'}"
      ]
     },
     "execution_count": 9,
     "metadata": {},
     "output_type": "execute_result"
    }
   ],
   "source": [
    "management.intersection(directors)"
   ]
  },
  {
   "attachments": {},
   "cell_type": "markdown",
   "metadata": {},
   "source": [
    "All members of the managent also an employee"
   ]
  },
  {
   "cell_type": "code",
   "execution_count": 11,
   "metadata": {},
   "outputs": [
    {
     "data": {
      "text/plain": [
       "True"
      ]
     },
     "execution_count": 11,
     "metadata": {},
     "output_type": "execute_result"
    }
   ],
   "source": [
    "management.issubset(employees)"
   ]
  },
  {
   "attachments": {},
   "cell_type": "markdown",
   "metadata": {},
   "source": [
    "All members of the management also in the board?"
   ]
  },
  {
   "cell_type": "code",
   "execution_count": 14,
   "metadata": {},
   "outputs": [
    {
     "data": {
      "text/plain": [
       "False"
      ]
     },
     "execution_count": 14,
     "metadata": {},
     "output_type": "execute_result"
    }
   ],
   "source": [
    "management.issubset(directors)"
   ]
  },
  {
   "attachments": {},
   "cell_type": "markdown",
   "metadata": {},
   "source": [
    "Who is an employee, member of the management, and a member of the board?"
   ]
  },
  {
   "cell_type": "code",
   "execution_count": 15,
   "metadata": {},
   "outputs": [
    {
     "data": {
      "text/plain": [
       "{'Tine'}"
      ]
     },
     "execution_count": 15,
     "metadata": {},
     "output_type": "execute_result"
    }
   ],
   "source": [
    "employees.intersection(directors, management)"
   ]
  },
  {
   "attachments": {},
   "cell_type": "markdown",
   "metadata": {},
   "source": [
    "Who of the employee is neither a memeber or the board or management?"
   ]
  },
  {
   "cell_type": "code",
   "execution_count": 16,
   "metadata": {},
   "outputs": [
    {
     "data": {
      "text/plain": [
       "{'Allan', 'Anna', 'Bent', 'Claus', 'James', 'Lars', 'Niels', 'Ole', 'Stine'}"
      ]
     },
     "execution_count": 16,
     "metadata": {},
     "output_type": "execute_result"
    }
   ],
   "source": [
    "employees.difference(directors, management)"
   ]
  },
  {
   "attachments": {},
   "cell_type": "markdown",
   "metadata": {},
   "source": [
    "2. Create a list of tuples from the folowing datastructure"
   ]
  },
  {
   "cell_type": "code",
   "execution_count": 18,
   "metadata": {},
   "outputs": [],
   "source": [
    "tuple = ('a', 'Alpha', 'b', 'Beta', 'g', 'Gamma')"
   ]
  },
  {
   "attachments": {},
   "cell_type": "markdown",
   "metadata": {},
   "source": [
    "3. From these 2 sets:\n",
    "{'a', 'e', 'i', 'o', 'u', 'y'}, \n",
    "{'a', 'e', 'i', 'o', 'u', 'y', 'æ' ,'ø', 'å'}\n",
    "\n",
    "Create a:\n",
    "    Union, \n",
    "    Symmetric difference, \n",
    "    Difference, \n",
    "    Disjoint"
   ]
  },
  {
   "cell_type": "code",
   "execution_count": 20,
   "metadata": {},
   "outputs": [],
   "source": [
    "letters1 = {'a', 'e', 'i', 'o', 'u', 'y'}\n",
    "letters2 = {'a', 'e', 'i', 'o', 'u', 'y', 'æ' ,'ø', 'å'}\n",
    "\n",
    "#Union\n",
    "union_set_method = letters1.union(letters2)\n",
    "union_set_operator = letters1 | letters2\n",
    "\n",
    "#Symmetric difference\n",
    "symmetric_difference_set_method = letters1.symmetric_difference(letters2)\n",
    "symmetric_difference_set_operator = letters1 ^ letters2\n",
    "\n",
    "#Difference\n",
    "difference_set_method = letters1.difference(letters2)\n",
    "difference_set_operator = letters1 - letters2\n",
    "\n",
    "#Disjoint\n",
    "disjoint_set_method = letters1.isdisjoint(letters2)\n",
    "#No operator for disjoint"
   ]
  },
  {
   "attachments": {},
   "cell_type": "markdown",
   "metadata": {},
   "source": [
    "4. Date Decoder.\n",
    "A date of the form 8-MAR-85 includes the name of the month, which must be translated to a number.\n",
    "\n",
    "Create a dict suitable for decoding month names to numbers.\n",
    "\n",
    "Create a function which uses string operations to split the date into 3 items using the \"-\" character.\n",
    "\n",
    "Translate the month, correct the year to include all of the digits.\n",
    "\n",
    " \n",
    "\n",
    "The function will accept a date in the \"dd-MMM-yy\" format and respond with a tuple of ( y , m , d )."
   ]
  },
  {
   "cell_type": "code",
   "execution_count": 24,
   "metadata": {},
   "outputs": [
    {
     "data": {
      "text/plain": [
       "('1985', 3, '8')"
      ]
     },
     "execution_count": 24,
     "metadata": {},
     "output_type": "execute_result"
    }
   ],
   "source": [
    "month_dict = {\n",
    "    'JAN': 1,\n",
    "    'FEB': 2,\n",
    "    'MAR': 3,\n",
    "    'APR': 4,\n",
    "    'MAY': 5,\n",
    "    'JUN': 6,\n",
    "    'JUL': 7,\n",
    "    'AUG': 8,\n",
    "    'SEP': 9,\n",
    "    'OCT': 10,\n",
    "    'NOV': 11,\n",
    "    'DEC': 12\n",
    "}\n",
    "\n",
    "def dateDecoder(date):\n",
    "    date = date.split('-')\n",
    "    day = date[0]\n",
    "    month = date[1]\n",
    "    year = date[2]\n",
    "\n",
    "    if int(year) < 70:\n",
    "        year = '20' + year\n",
    "    else:\n",
    "        year = '19' + year\n",
    "\n",
    "    return year, month_dict[month], day\n",
    "\n",
    "\n",
    "dateDecoder('8-MAR-85')\n",
    "\n",
    "\n"
   ]
  },
  {
   "attachments": {},
   "cell_type": "markdown",
   "metadata": {},
   "source": [
    "5. Party exercise\n",
    "\n",
    "You are organizing a party and have two lists of friends. One list contains the friends you have invited, and the other list contains the friends who have RSVP'd.\n",
    "\n",
    "You want to find out who has not RSVP'd, who was not invited but RSVP'd, and who are common in both lists.\n",
    "\n",
    "Task: Write a Python program that takes two sets of names, one set containing the names of friends invited to the party and another set containing the names of friends who have RSVP'd.\n",
    "The program should then print out the names of friends who have not RSVP'd, the names of friends who were not invited but RSVP'd, and the names of friends who are common in both lists (i.e., invited and RSVP'd)."
   ]
  },
  {
   "cell_type": "code",
   "execution_count": 27,
   "metadata": {},
   "outputs": [
    {
     "name": "stdout",
     "output_type": "stream",
     "text": [
      "{'Henning', 'Mette', 'Gitte', 'Søren', 'Ole', 'Hanne'}\n",
      "{'Trine', 'Bob'}\n",
      "{'Kurt', 'Peter', 'Anne'}\n"
     ]
    }
   ],
   "source": [
    "friendsInvited = {'Peter', 'Mette', 'Anne', 'Kurt', 'Hanne', 'Søren', 'Gitte', 'Ole', 'Henning'}\n",
    "friendRSVPd = {'Peter', 'Trine', 'Anne', 'Kurt', 'Bob'}\n",
    "\n",
    "#Friends that have not RSVPd\n",
    "friendsNotRSVPd = friendsInvited.difference(friendRSVPd)\n",
    "print(friendsNotRSVPd)\n",
    "\n",
    "#Friends that have RSVPd but are not invited\n",
    "friendsNotInvited = friendRSVPd.difference(friendsInvited)\n",
    "print(friendsNotInvited)\n",
    "\n",
    "#Friends that are common in both lists\n",
    "friendsCommon = friendsInvited.intersection(friendRSVPd)\n",
    "print(friendsCommon)"
   ]
  },
  {
   "attachments": {},
   "cell_type": "markdown",
   "metadata": {},
   "source": [
    "6. You are a teacher and have a dictionary containing the names of your students as keys and their grades as values.\n",
    "\n",
    "You want to update the grades of some students and then print out the names of all students who have a grade higher than 85.\n",
    "\n",
    "Task: Write a Python program that takes a dictionary of students and their grades, updates the grades of specific students, and then prints out the names of all students who have a grade higher than 85."
   ]
  },
  {
   "cell_type": "code",
   "execution_count": 31,
   "metadata": {},
   "outputs": [
    {
     "name": "stdout",
     "output_type": "stream",
     "text": [
      "Jens\n",
      "Ole\n",
      "Henning\n"
     ]
    }
   ],
   "source": [
    "students = {\n",
    "    'Jens': 70, \n",
    "    'Peter': 80, \n",
    "    'Mette': 67, \n",
    "    'Anne': 85, \n",
    "    'Kurt': 77, \n",
    "    'Hanne': 73, \n",
    "    'Søren': 79, \n",
    "    'Gitte': 82, \n",
    "    'Ole': 88, \n",
    "    'Henning': 94\n",
    "}\n",
    "\n",
    "def updateStudent(student, grade):\n",
    "    students[student] = grade\n",
    "\n",
    "updateStudent('Jens', 99)\n",
    "\n",
    "for student in students:\n",
    "    if students[student] > 85:\n",
    "        print(student)\n",
    "\n"
   ]
  }
 ],
 "metadata": {
  "kernelspec": {
   "display_name": ".venv",
   "language": "python",
   "name": "python3"
  },
  "language_info": {
   "codemirror_mode": {
    "name": "ipython",
    "version": 3
   },
   "file_extension": ".py",
   "mimetype": "text/x-python",
   "name": "python",
   "nbconvert_exporter": "python",
   "pygments_lexer": "ipython3",
   "version": "3.11.4"
  },
  "orig_nbformat": 4
 },
 "nbformat": 4,
 "nbformat_minor": 2
}
